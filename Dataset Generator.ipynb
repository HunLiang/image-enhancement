{
 "cells": [
  {
   "cell_type": "markdown",
   "id": "7392e29d",
   "metadata": {},
   "source": [
    "This notebook takes images of any size stored in multiple directories and prepares them for training. The notebook does this by resizing all of the images to the correct size and storing them in \"training\" and \"testing\" folders. Place images in a folder called \"input\" to use the notebook."
   ]
  },
  {
   "cell_type": "code",
   "execution_count": 29,
   "id": "2250fca7",
   "metadata": {},
   "outputs": [],
   "source": [
    "import os\n",
    "import glob\n",
    "import cv2\n",
    "import random"
   ]
  },
  {
   "cell_type": "code",
   "execution_count": 3,
   "id": "b4732735",
   "metadata": {},
   "outputs": [],
   "source": [
    "os.mkdir(\"training\")\n",
    "os.mkdir(\"testing\")"
   ]
  },
  {
   "cell_type": "code",
   "execution_count": 31,
   "id": "f4fd9724",
   "metadata": {},
   "outputs": [],
   "source": [
    "in_path = glob.glob(os.path.join(\"input\", '*', '*.jpg'))\n",
    "random.shuffle(in_path)\n",
    "num_testing = int(len(in_path) * .1)\n",
    "for i in range(0, len(in_path)):\n",
    "    path = in_path[i]\n",
    "    img = cv2.imread(path)\n",
    "    img = cv2.resize(img, (224,224))\n",
    "    if i < num_testing:\n",
    "        cv2.imwrite(os.path.join(\"testing\", os.path.basename(path)), img)\n",
    "    else:\n",
    "        cv2.imwrite(os.path.join(\"training\", os.path.basename(path)), img)"
   ]
  },
  {
   "cell_type": "code",
   "execution_count": null,
   "id": "f117ad22",
   "metadata": {},
   "outputs": [],
   "source": []
  },
  {
   "cell_type": "code",
   "execution_count": null,
   "id": "ac027323",
   "metadata": {},
   "outputs": [],
   "source": []
  }
 ],
 "metadata": {
  "kernelspec": {
   "display_name": "Python 3 (ipykernel)",
   "language": "python",
   "name": "python3"
  },
  "language_info": {
   "codemirror_mode": {
    "name": "ipython",
    "version": 3
   },
   "file_extension": ".py",
   "mimetype": "text/x-python",
   "name": "python",
   "nbconvert_exporter": "python",
   "pygments_lexer": "ipython3",
   "version": "3.9.7"
  }
 },
 "nbformat": 4,
 "nbformat_minor": 5
}
